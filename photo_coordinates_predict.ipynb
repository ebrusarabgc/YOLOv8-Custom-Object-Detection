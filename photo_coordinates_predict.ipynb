{
 "cells": [
  {
   "cell_type": "code",
   "execution_count": 1,
   "metadata": {
    "collapsed": true
   },
   "outputs": [],
   "source": [
    "from ultralytics import YOLO\n",
    "import cv2\n",
    "import os"
   ]
  },
  {
   "cell_type": "code",
   "execution_count": 4,
   "outputs": [],
   "source": [
    "IMG_DIR = os.path.join('.', 'images')\n",
    "\n",
    "img_path = os.path.join(IMG_DIR, '168.jpg')\n",
    "img_path_out = '{}_out.jpg'.format(img_path)"
   ],
   "metadata": {
    "collapsed": false
   }
  },
  {
   "cell_type": "code",
   "execution_count": 5,
   "outputs": [],
   "source": [
    "img = cv2.imread(img_path)\n",
    "H, W, _ = img.shape\n",
    "out = cv2.imwrite(img_path_out, img)"
   ],
   "metadata": {
    "collapsed": false
   }
  },
  {
   "cell_type": "code",
   "execution_count": 6,
   "outputs": [],
   "source": [
    "model_path = os.path.join('.', 'runs', 'detect', 'train', 'weights', 'last.pt')\n",
    "\n",
    "model = YOLO(model_path)\n",
    "\n",
    "threshold = 0.5\n",
    "\n",
    "class_name_dict = {0: 'bus'}"
   ],
   "metadata": {
    "collapsed": false
   }
  },
  {
   "cell_type": "code",
   "execution_count": 7,
   "outputs": [
    {
     "name": "stderr",
     "output_type": "stream",
     "text": [
      "\n",
      "0: 640x384 1 bus, 138.5ms\n",
      "Speed: 5.3ms preprocess, 138.5ms inference, 8.7ms postprocess per image at shape (1, 3, 640, 640)\n"
     ]
    },
    {
     "name": "stdout",
     "output_type": "stream",
     "text": [
      "x1: 429.4928283691406\n",
      "y1: 1182.30859375\n",
      "x2: 1218.4390869140625\n",
      "y2: 2055.5927734375\n",
      "class_id: 0.0\n"
     ]
    }
   ],
   "source": [
    "results = model(img)[0]\n",
    "\n",
    "for result in results.boxes.data.tolist():\n",
    "    x1, y1, x2, y2, score, class_id = result\n",
    "\n",
    "    if score > threshold:\n",
    "        print(\"x1:\", x1)\n",
    "        print(\"y1:\", y1)\n",
    "        print(\"x2:\", x2)\n",
    "        print(\"y2:\", y2)\n",
    "        print(\"class_id:\", class_id)"
   ],
   "metadata": {
    "collapsed": false
   }
  },
  {
   "cell_type": "code",
   "execution_count": null,
   "outputs": [],
   "source": [],
   "metadata": {
    "collapsed": false
   }
  }
 ],
 "metadata": {
  "kernelspec": {
   "display_name": "Python 3",
   "language": "python",
   "name": "python3"
  },
  "language_info": {
   "codemirror_mode": {
    "name": "ipython",
    "version": 2
   },
   "file_extension": ".py",
   "mimetype": "text/x-python",
   "name": "python",
   "nbconvert_exporter": "python",
   "pygments_lexer": "ipython2",
   "version": "2.7.6"
  }
 },
 "nbformat": 4,
 "nbformat_minor": 0
}
