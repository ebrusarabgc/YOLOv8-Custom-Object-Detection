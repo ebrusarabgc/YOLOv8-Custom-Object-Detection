{
 "cells": [
  {
   "cell_type": "code",
   "execution_count": null,
   "outputs": [],
   "source": [
    "import os\n",
    "import random\n",
    "import shutil\n",
    "\n",
    "# Verilerin bulunduğu dizinler\n",
    "images_path = 'data/images/'\n",
    "labels_path = 'data/labels/'\n",
    "\n",
    "# Verilerin ayrıştırılacağı dizinler\n",
    "train_path = 'dataset/train/'\n",
    "valid_path = 'dataset/validation/'\n",
    "test_path = 'dataset/test/'\n",
    "\n",
    "# images ve annotations için klasör oluşturma\n",
    "for folder in [train_path, valid_path, test_path]:\n",
    "    os.makedirs(os.path.join(folder, 'images'), exist_ok=True)\n",
    "    os.makedirs(os.path.join(folder, 'annotations'), exist_ok=True)\n",
    "\n",
    "# Verileri ayrıştırırken kullanılacak yüzdelikler\n",
    "train_split = 0.6\n",
    "valid_split = 0.2\n",
    "test_split = 0.2\n",
    "\n",
    "file_names = os.listdir(images_path)\n",
    "random.shuffle(file_names)\n",
    "\n",
    "train_index = int(len(file_names) * train_split)\n",
    "valid_index = int(len(file_names) * (train_split + valid_split))\n",
    "\n",
    "train_files = file_names[:train_index]\n",
    "valid_files = file_names[train_index:valid_index]\n",
    "test_files = file_names[valid_index:]\n",
    "\n",
    "for file_list, folder in [(train_files, train_path), (valid_files, valid_path), (test_files, test_path)]:\n",
    "    for file_name in file_list:\n",
    "        image_file = os.path.join(images_path, file_name)\n",
    "        label_file = os.path.join(labels_path, file_name.replace('.jpg', '.txt'))\n",
    "        shutil.copy(image_file, os.path.join(folder, 'images', file_name))\n",
    "        shutil.copy(label_file, os.path.join(folder, 'annotations', file_name.replace('.jpg', '.txt')))\n"
   ],
   "metadata": {
    "collapsed": false
   }
  },
  {
   "cell_type": "code",
   "execution_count": null,
   "outputs": [],
   "source": [],
   "metadata": {
    "collapsed": false
   }
  }
 ],
 "metadata": {
  "kernelspec": {
   "display_name": "Python 3",
   "language": "python",
   "name": "python3"
  },
  "language_info": {
   "codemirror_mode": {
    "name": "ipython",
    "version": 2
   },
   "file_extension": ".py",
   "mimetype": "text/x-python",
   "name": "python",
   "nbconvert_exporter": "python",
   "pygments_lexer": "ipython2",
   "version": "2.7.6"
  }
 },
 "nbformat": 4,
 "nbformat_minor": 0
}
